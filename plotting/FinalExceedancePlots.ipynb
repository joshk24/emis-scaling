{
 "cells": [
  {
   "cell_type": "code",
   "execution_count": 7,
   "id": "02dc63df-611d-411f-8a76-800c8b22e0dc",
   "metadata": {},
   "outputs": [],
   "source": [
    "import xarray as xr\n",
    "import pandas as pd\n",
    "import numpy as np\n",
    "import matplotlib.pyplot as plt\n",
    "import cartopy.crs as ccrs\n",
    "from pyproj import Proj\n",
    "import cartopy.feature as cfeature\n",
    "from pathlib import Path\n",
    "from matplotlib.colors import BoundaryNorm \n",
    "import glob\n",
    "import cmaqsatproc as csp"
   ]
  },
  {
   "cell_type": "code",
   "execution_count": 12,
   "id": "f08080d4-9a57-49d3-b3fc-a112290cacce",
   "metadata": {},
   "outputs": [],
   "source": [
    "# Define the file paths for BASE and ASSIM runs\n",
    "base_files = glob.glob('/work/MOD3DEV/jkumm/EMBER/CMAQ/36US3/eval/POST/EMBER_BASE/*/AQS_Hourly_EMBER_BASE.csv')\n",
    "base_files = [f for f in base_files if any(month in f for month in ['202305', '202306', '202307', '202308', '202309'])]\n",
    "assim_files = glob.glob('/work/MOD3DEV/jkumm/EMBER/CMAQ/36US3/eval/POST/EMBER_ASSIM/*/AQS_Hourly_EMBER_ASSIM.csv')\n",
    "assim_files = [f for f in assim_files if any(month in f for month in ['202305', '202306', '202307', '202308', '202309'])]\n",
    "# scale_files = glob.glob('/work/MOD3DEV/jkumm/EMBER/CMAQ/36US3/eval/POST/EMBER_SCALE_ASSIM_i4/*/AQS_Hourly_EMBER_SCALE_ASSIM_i4.csv')\n",
    "scale_assim_files = glob.glob('/work/MOD3DEV/jkumm/EMBER/CMAQ/36US3/eval/POST/EMBER_SCALE_ASSIM_FINAL_202506/*/AQS_Hourly_EMBER_SCALE_ASSIM_FINAL_202506.csv')"
   ]
  },
  {
   "cell_type": "code",
   "execution_count": 13,
   "id": "786b33af-1296-43fd-a849-840ea2ecb37a",
   "metadata": {},
   "outputs": [],
   "source": [
    "# Calculate metrics\n",
    "def calculate_metrics(obs, mod):\n",
    "    correlation = obs.corr(mod)\n",
    "    rmse = np.sqrt(mean_squared_error(obs, mod))\n",
    "    nmb = 100 * ((mod - obs).sum() / obs.sum())\n",
    "    nme = 100 * (np.abs(mod - obs).sum() / obs.sum())\n",
    "    return correlation, rmse, nmb, nme"
   ]
  },
  {
   "cell_type": "code",
   "execution_count": 14,
   "id": "314ba949",
   "metadata": {},
   "outputs": [
    {
     "ename": "KeyError",
     "evalue": "\"None of [Index(['O3_8hrmax_9cell_ob', 'O3_8hrmax_9cell_mod'], dtype='object')] are in the [columns]\"",
     "output_type": "error",
     "traceback": [
      "\u001b[0;31m---------------------------------------------------------------------------\u001b[0m",
      "\u001b[0;31mKeyError\u001b[0m                                  Traceback (most recent call last)",
      "Cell \u001b[0;32mIn[14], line 25\u001b[0m\n\u001b[1;32m     20\u001b[0m cdf \u001b[38;5;241m=\u001b[39m cdf\u001b[38;5;241m.\u001b[39mreset_index()\n\u001b[1;32m     22\u001b[0m \u001b[38;5;66;03m# cdf = cdf.rename(columns={'O3_8hrmax_9cell_mod': 'O3_8hrmax_9cell_mod_scale_assim'})\u001b[39;00m\n\u001b[1;32m     23\u001b[0m \n\u001b[1;32m     24\u001b[0m \u001b[38;5;66;03m# Drop rows with NaN values in the relevant columns\u001b[39;00m\n\u001b[0;32m---> 25\u001b[0m valid_data \u001b[38;5;241m=\u001b[39m \u001b[43mbdf\u001b[49m\u001b[43m[\u001b[49m\u001b[43m[\u001b[49m\u001b[38;5;124;43m'\u001b[39;49m\u001b[38;5;124;43mO3_8hrmax_9cell_ob\u001b[39;49m\u001b[38;5;124;43m'\u001b[39;49m\u001b[43m,\u001b[49m\u001b[43m \u001b[49m\u001b[38;5;124;43m'\u001b[39;49m\u001b[38;5;124;43mO3_8hrmax_9cell_mod\u001b[39;49m\u001b[38;5;124;43m'\u001b[39;49m\u001b[43m]\u001b[49m\u001b[43m]\u001b[49m\u001b[38;5;241m.\u001b[39mjoin(adf[[\u001b[38;5;124m'\u001b[39m\u001b[38;5;124mO3_8hrmax_9cell_mod\u001b[39m\u001b[38;5;124m'\u001b[39m]], lsuffix\u001b[38;5;241m=\u001b[39m\u001b[38;5;124m'\u001b[39m\u001b[38;5;124m_base\u001b[39m\u001b[38;5;124m'\u001b[39m, rsuffix\u001b[38;5;241m=\u001b[39m\u001b[38;5;124m'\u001b[39m\u001b[38;5;124m_assim\u001b[39m\u001b[38;5;124m'\u001b[39m)\u001b[38;5;241m.\u001b[39mdropna()\n\u001b[1;32m     27\u001b[0m valid_data \u001b[38;5;241m=\u001b[39m valid_data\u001b[38;5;241m.\u001b[39mjoin(cdf[[\u001b[38;5;124m'\u001b[39m\u001b[38;5;124mO3_8hrmax_9cell_mod_scale_assim\u001b[39m\u001b[38;5;124m'\u001b[39m]])\u001b[38;5;241m.\u001b[39mdropna()\n\u001b[1;32m     29\u001b[0m \u001b[38;5;66;03m# Debug: Print intermediate data\u001b[39;00m\n",
      "File \u001b[0;32m~/.local/lib/python3.9/site-packages/pandas/core/frame.py:3810\u001b[0m, in \u001b[0;36mDataFrame.__getitem__\u001b[0;34m(self, key)\u001b[0m\n\u001b[1;32m   3808\u001b[0m     \u001b[38;5;28;01mif\u001b[39;00m is_iterator(key):\n\u001b[1;32m   3809\u001b[0m         key \u001b[38;5;241m=\u001b[39m \u001b[38;5;28mlist\u001b[39m(key)\n\u001b[0;32m-> 3810\u001b[0m     indexer \u001b[38;5;241m=\u001b[39m \u001b[38;5;28;43mself\u001b[39;49m\u001b[38;5;241;43m.\u001b[39;49m\u001b[43mcolumns\u001b[49m\u001b[38;5;241;43m.\u001b[39;49m\u001b[43m_get_indexer_strict\u001b[49m\u001b[43m(\u001b[49m\u001b[43mkey\u001b[49m\u001b[43m,\u001b[49m\u001b[43m \u001b[49m\u001b[38;5;124;43m\"\u001b[39;49m\u001b[38;5;124;43mcolumns\u001b[39;49m\u001b[38;5;124;43m\"\u001b[39;49m\u001b[43m)\u001b[49m[\u001b[38;5;241m1\u001b[39m]\n\u001b[1;32m   3812\u001b[0m \u001b[38;5;66;03m# take() does not accept boolean indexers\u001b[39;00m\n\u001b[1;32m   3813\u001b[0m \u001b[38;5;28;01mif\u001b[39;00m \u001b[38;5;28mgetattr\u001b[39m(indexer, \u001b[38;5;124m\"\u001b[39m\u001b[38;5;124mdtype\u001b[39m\u001b[38;5;124m\"\u001b[39m, \u001b[38;5;28;01mNone\u001b[39;00m) \u001b[38;5;241m==\u001b[39m \u001b[38;5;28mbool\u001b[39m:\n",
      "File \u001b[0;32m~/.local/lib/python3.9/site-packages/pandas/core/indexes/base.py:6111\u001b[0m, in \u001b[0;36mIndex._get_indexer_strict\u001b[0;34m(self, key, axis_name)\u001b[0m\n\u001b[1;32m   6108\u001b[0m \u001b[38;5;28;01melse\u001b[39;00m:\n\u001b[1;32m   6109\u001b[0m     keyarr, indexer, new_indexer \u001b[38;5;241m=\u001b[39m \u001b[38;5;28mself\u001b[39m\u001b[38;5;241m.\u001b[39m_reindex_non_unique(keyarr)\n\u001b[0;32m-> 6111\u001b[0m \u001b[38;5;28;43mself\u001b[39;49m\u001b[38;5;241;43m.\u001b[39;49m\u001b[43m_raise_if_missing\u001b[49m\u001b[43m(\u001b[49m\u001b[43mkeyarr\u001b[49m\u001b[43m,\u001b[49m\u001b[43m \u001b[49m\u001b[43mindexer\u001b[49m\u001b[43m,\u001b[49m\u001b[43m \u001b[49m\u001b[43maxis_name\u001b[49m\u001b[43m)\u001b[49m\n\u001b[1;32m   6113\u001b[0m keyarr \u001b[38;5;241m=\u001b[39m \u001b[38;5;28mself\u001b[39m\u001b[38;5;241m.\u001b[39mtake(indexer)\n\u001b[1;32m   6114\u001b[0m \u001b[38;5;28;01mif\u001b[39;00m \u001b[38;5;28misinstance\u001b[39m(key, Index):\n\u001b[1;32m   6115\u001b[0m     \u001b[38;5;66;03m# GH 42790 - Preserve name from an Index\u001b[39;00m\n",
      "File \u001b[0;32m~/.local/lib/python3.9/site-packages/pandas/core/indexes/base.py:6171\u001b[0m, in \u001b[0;36mIndex._raise_if_missing\u001b[0;34m(self, key, indexer, axis_name)\u001b[0m\n\u001b[1;32m   6169\u001b[0m     \u001b[38;5;28;01mif\u001b[39;00m use_interval_msg:\n\u001b[1;32m   6170\u001b[0m         key \u001b[38;5;241m=\u001b[39m \u001b[38;5;28mlist\u001b[39m(key)\n\u001b[0;32m-> 6171\u001b[0m     \u001b[38;5;28;01mraise\u001b[39;00m \u001b[38;5;167;01mKeyError\u001b[39;00m(\u001b[38;5;124mf\u001b[39m\u001b[38;5;124m\"\u001b[39m\u001b[38;5;124mNone of [\u001b[39m\u001b[38;5;132;01m{\u001b[39;00mkey\u001b[38;5;132;01m}\u001b[39;00m\u001b[38;5;124m] are in the [\u001b[39m\u001b[38;5;132;01m{\u001b[39;00maxis_name\u001b[38;5;132;01m}\u001b[39;00m\u001b[38;5;124m]\u001b[39m\u001b[38;5;124m\"\u001b[39m)\n\u001b[1;32m   6173\u001b[0m not_found \u001b[38;5;241m=\u001b[39m \u001b[38;5;28mlist\u001b[39m(ensure_index(key)[missing_mask\u001b[38;5;241m.\u001b[39mnonzero()[\u001b[38;5;241m0\u001b[39m]]\u001b[38;5;241m.\u001b[39munique())\n\u001b[1;32m   6174\u001b[0m \u001b[38;5;28;01mraise\u001b[39;00m \u001b[38;5;167;01mKeyError\u001b[39;00m(\u001b[38;5;124mf\u001b[39m\u001b[38;5;124m\"\u001b[39m\u001b[38;5;132;01m{\u001b[39;00mnot_found\u001b[38;5;132;01m}\u001b[39;00m\u001b[38;5;124m not in index\u001b[39m\u001b[38;5;124m\"\u001b[39m)\n",
      "\u001b[0;31mKeyError\u001b[0m: \"None of [Index(['O3_8hrmax_9cell_ob', 'O3_8hrmax_9cell_mod'], dtype='object')] are in the [columns]\""
     ]
    }
   ],
   "source": [
    "# Initialize lists to store monthly statistics\n",
    "monthly_stats_base = []\n",
    "monthly_stats_assim = []\n",
    "monthly_stats_scale_assim = []\n",
    "\n",
    "# Loop through each month's files\n",
    "for base_file, assim_file, scale_assim_file in zip(base_files, assim_files, scale_assim_files):\n",
    "\n",
    "    # Read the data\n",
    "    bdf = pd.read_csv(base_file, skiprows=5, na_values=[-999])\n",
    "    adf = pd.read_csv(assim_file, skiprows=5, na_values=[-999])\n",
    "    cdf = pd.read_csv(scale_assim_file, skiprows=5, na_values=[-999])\n",
    "    \n",
    "    # Rename 'O3_8hrmax_9cell_mod' column in cdf to 'O3_8hrmax_9cell_mod_scale_assim' for clarity\n",
    "    cdf = cdf.rename(columns={'O3_8hrmax_9cell_mod': 'O3_8hrmax_9cell_mod_scale_assim'})\n",
    "    \n",
    "    # Reset indices to ensure alignment\n",
    "    bdf = bdf.reset_index()\n",
    "    adf = adf.reset_index()\n",
    "    cdf = cdf.reset_index()\n",
    "\n",
    "    # cdf = cdf.rename(columns={'O3_8hrmax_9cell_mod': 'O3_8hrmax_9cell_mod_scale_assim'})\n",
    "\n",
    "    # Drop rows with NaN values in the relevant columns\n",
    "    valid_data = bdf[['O3_8hrmax_9cell_ob', 'O3_8hrmax_9cell_mod']].join(adf[['O3_8hrmax_9cell_mod']], lsuffix='_base', rsuffix='_assim').dropna()\n",
    "\n",
    "    valid_data = valid_data.join(cdf[['O3_8hrmax_9cell_mod_scale_assim']]).dropna()\n",
    "\n",
    "    # Debug: Print intermediate data\n",
    "    print(valid_data.head())\n",
    "\n",
    "    # Observed and modeled O3_8hrmax_9cell for BASE and ASSIM\n",
    "    obs_O3_8hrmax_9cell = valid_data['O3_8hrmax_9cell_ob']\n",
    "    base_O3_8hrmax_9cell = valid_data['O3_8hrmax_9cell_mod_base']\n",
    "    assim_O3_8hrmax_9cell = valid_data['O3_8hrmax_9cell_mod_assim']\n",
    "    scale_assim_O3_8hrmax_9cell = valid_data['O3_8hrmax_9cell_mod_scale_assim']\n",
    "    \n",
    "    # Calculate metrics for BASE and ASSIM\n",
    "    base_metrics = calculate_metrics(obs_O3_8hrmax_9cell, base_O3_8hrmax_9cell)\n",
    "    assim_metrics = calculate_metrics(obs_O3_8hrmax_9cell, assim_O3_8hrmax_9cell)\n",
    "    scale_assim_metrics = calculate_metrics(obs_O3_8hrmax_9cell, scale_assim_O3_8hrmax_9cell)\n",
    "\n",
    "    # Append to the monthly statistics lists\n",
    "    monthly_stats_base.append(base_metrics)\n",
    "    monthly_stats_assim.append(assim_metrics)\n",
    "    monthly_stats_scale_assim.append(scale_assim_metrics)"
   ]
  },
  {
   "cell_type": "code",
   "execution_count": null,
   "id": "3b1cc0d3-ec7d-4556-b105-5fd847db64d4",
   "metadata": {},
   "outputs": [],
   "source": [
    "def plot_aqs_exceedances(bdf, cdf):\n",
    "    \"\"\"\n",
    "    Plots the number of MDA8 O3 exceedances (MDA8 O3 > 70 ppb) for each AQS dot\n",
    "    on a Lambert Conformal projection map.\n",
    "\n",
    "    Parameters:\n",
    "        bdf (pd.DataFrame): DataFrame for BASE data with lat/lon and MDA8 O3 values.\n",
    "        cdf (pd.DataFrame): DataFrame for SCALE ASSIM data with lat/lon and MDA8 O3 values.\n",
    "    \"\"\"\n",
    "    import cartopy.crs as ccrs\n",
    "    import cartopy.feature as cfeature\n",
    "\n",
    "    # Count exceedances for BASE and SCALE ASSIM\n",
    "    bdf['Exceedance'] = bdf['O3_8hrmax_9cell_mod'] > 70\n",
    "    cdf['Exceedance'] = cdf['O3_8hrmax_9cell_mod_scale_assim'] > 70\n",
    "\n",
    "    bdf_exceedances = bdf.groupby(['SiteId', 'Latitude', 'Longitude'])['Exceedance'].sum().reset_index()\n",
    "    cdf_exceedances = cdf.groupby(['SiteId', 'Latitude', 'Longitude'])['Exceedance'].sum().reset_index()\n",
    "\n",
    "    # Calculate SCALE_ASSIM - BASE exceedance difference\n",
    "    diff_exceedances = cdf_exceedances.copy()\n",
    "    diff_exceedances['Exceedance_Diff'] = cdf_exceedances['Exceedance'] - bdf_exceedances['Exceedance']\n",
    "\n",
    "    # Set up the map projection\n",
    "    projection = ccrs.LambertConformal(central_longitude=-97, central_latitude=40, standard_parallels=(33, 45))\n",
    "    fig, axes = plt.subplots(3, 1, figsize=(16, 12), subplot_kw={'projection': projection})\n",
    "\n",
    "    # Add map features\n",
    "    for ax in axes:\n",
    "        ax.add_feature(cfeature.COASTLINE, linewidth=1)\n",
    "        ax.add_feature(cfeature.BORDERS, linewidth=0.5)\n",
    "        ax.add_feature(cfeature.STATES, linewidth=0.5, linestyle='--')\n",
    "        ax.set_extent([-125, -66.5, 24, 49], crs=ccrs.PlateCarree())\n",
    "\n",
    "    # Plot BASE exceedances\n",
    "    sc1 = axes[0].scatter(bdf_exceedances['Longitude'], bdf_exceedances['Latitude'], \n",
    "                          c=bdf_exceedances['Exceedance'], cmap='viridis', s=50, \n",
    "                          transform=ccrs.PlateCarree(), edgecolor='black')\n",
    "    axes[0].set_title('BASE MDA8 O3 Exceedances', fontsize=14, weight='bold')\n",
    "    plt.colorbar(sc1, ax=axes[0], orientation='vertical', label='Exceedances')\n",
    "\n",
    "    # Plot SCALE ASSIM exceedances\n",
    "    sc2 = axes[1].scatter(cdf_exceedances['Longitude'], cdf_exceedances['Latitude'], \n",
    "                          c=cdf_exceedances['Exceedance'], cmap='viridis', s=50, \n",
    "                          transform=ccrs.PlateCarree(), edgecolor='black')\n",
    "    axes[1].set_title('SCALE ASSIM MDA8 O3 Exceedances', fontsize=14, weight='bold')\n",
    "    plt.colorbar(sc2, ax=axes[1], orientation='vertical', label='Exceedances')\n",
    "\n",
    "    # Plot exceedance difference (SCALE_ASSIM - BASE)\n",
    "    sc3 = axes[2].scatter(diff_exceedances['Longitude'], diff_exceedances['Latitude'], \n",
    "                          c=diff_exceedances['Exceedance_Diff'], cmap='coolwarm', s=50, \n",
    "                          transform=ccrs.PlateCarree(), edgecolor='black')\n",
    "    axes[2].set_title('Exceedance Difference (SCALE ASSIM - BASE)', fontsize=14, weight='bold')\n",
    "    plt.colorbar(sc3, ax=axes[2], orientation='vertical', label='Difference')\n",
    "\n",
    "    # Adjust layout\n",
    "    plt.tight_layout()\n",
    "    plt.savefig('AQS_MDA8_O3_Exceedances_Map_Publication.png', dpi=300, bbox_inches='tight')\n",
    "    plt.show()"
   ]
  },
  {
   "cell_type": "code",
   "execution_count": null,
   "id": "fd31a898",
   "metadata": {},
   "outputs": [
    {
     "ename": "NameError",
     "evalue": "name 'bdf' is not defined",
     "output_type": "error",
     "traceback": [
      "\u001b[0;31m---------------------------------------------------------------------------\u001b[0m",
      "\u001b[0;31mNameError\u001b[0m                                 Traceback (most recent call last)",
      "Cell \u001b[0;32mIn[5], line 2\u001b[0m\n\u001b[1;32m      1\u001b[0m \u001b[38;5;66;03m# Count exceedances for BASE and SCALE ASSIM\u001b[39;00m\n\u001b[0;32m----> 2\u001b[0m bdf[\u001b[38;5;124m'\u001b[39m\u001b[38;5;124mExceedance_base\u001b[39m\u001b[38;5;124m'\u001b[39m] \u001b[38;5;241m=\u001b[39m \u001b[43mbdf\u001b[49m[\u001b[38;5;124m'\u001b[39m\u001b[38;5;124mO3_8hrmax_9cell_mod\u001b[39m\u001b[38;5;124m'\u001b[39m] \u001b[38;5;241m>\u001b[39m \u001b[38;5;241m70\u001b[39m\n\u001b[1;32m      3\u001b[0m cdf[\u001b[38;5;124m'\u001b[39m\u001b[38;5;124mExceedance_scale_assim\u001b[39m\u001b[38;5;124m'\u001b[39m] \u001b[38;5;241m=\u001b[39m cdf[\u001b[38;5;124m'\u001b[39m\u001b[38;5;124mO3_8hrmax_9cell_mod_scale_assim\u001b[39m\u001b[38;5;124m'\u001b[39m] \u001b[38;5;241m>\u001b[39m \u001b[38;5;241m70\u001b[39m\n\u001b[1;32m      4\u001b[0m bdf_exceedances \u001b[38;5;241m=\u001b[39m bdf\u001b[38;5;241m.\u001b[39mgroupby([\u001b[38;5;124m'\u001b[39m\u001b[38;5;124mSiteId\u001b[39m\u001b[38;5;124m'\u001b[39m, \u001b[38;5;124m'\u001b[39m\u001b[38;5;124mLatitude\u001b[39m\u001b[38;5;124m'\u001b[39m, \u001b[38;5;124m'\u001b[39m\u001b[38;5;124mLongitude\u001b[39m\u001b[38;5;124m'\u001b[39m])[\u001b[38;5;124m'\u001b[39m\u001b[38;5;124mExceedance_base\u001b[39m\u001b[38;5;124m'\u001b[39m]\u001b[38;5;241m.\u001b[39msum()\u001b[38;5;241m.\u001b[39mreset_index()\n",
      "\u001b[0;31mNameError\u001b[0m: name 'bdf' is not defined"
     ]
    }
   ],
   "source": [
    "    # Count exceedances for BASE and SCALE ASSIM\n",
    "    bdf['Exceedance_base'] = bdf['O3_8hrmax_9cell_mod'] > 70\n",
    "    cdf['Exceedance_scale_assim'] = cdf['O3_8hrmax_9cell_mod_scale_assim'] > 70\n",
    "    bdf_exceedances = bdf.groupby(['SiteId', 'Latitude', 'Longitude'])['Exceedance_base'].sum().reset_index()\n",
    "    cdf_exceedances = cdf.groupby(['SiteId', 'Latitude', 'Longitude'])['Exceedance_scale_assim'].sum().reset_index()"
   ]
  }
 ],
 "metadata": {
  "kernelspec": {
   "display_name": "intel39",
   "language": "python",
   "name": "intel39"
  },
  "language_info": {
   "codemirror_mode": {
    "name": "ipython",
    "version": 3
   },
   "file_extension": ".py",
   "mimetype": "text/x-python",
   "name": "python",
   "nbconvert_exporter": "python",
   "pygments_lexer": "ipython3",
   "version": "3.9.15"
  }
 },
 "nbformat": 4,
 "nbformat_minor": 5
}
